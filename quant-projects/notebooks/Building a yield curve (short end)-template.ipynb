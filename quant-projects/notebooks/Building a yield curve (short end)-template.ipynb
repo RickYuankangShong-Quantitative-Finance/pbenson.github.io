{
 "cells": [
  {
   "cell_type": "markdown",
   "metadata": {},
   "source": [
    "# Building a yield curve using US Treasury T-bill data\n",
    "\n",
    "In the *Intro to quandl and iexfinance* notebook, we learned how to pull US Treasury data from the US Federal Reserve bank site. We are going to pull prices for T-bills out to 52 weeks maturity, and use that data to build functions that can price a zero coupon with any maturity less than a year.\n",
    "\n",
    "Here we copy some useful bits of that notebook, and tweak the plot function to plot interest rates."
   ]
  },
  {
   "cell_type": "code",
   "execution_count": 127,
   "metadata": {},
   "outputs": [],
   "source": [
    "import pandas as pd\n",
    "import numpy as np\n",
    "import matplotlib.pyplot as plt\n",
    "import scipy.stats as stats\n",
    "import quandl\n",
    "\n",
    "# replace YOUR_API_KEY with key from https://www.quandl.com/account/profile\n",
    "quandl.ApiConfig.api_key = 'YOUR_API_KEY'\n",
    "\n",
    "def plot_interest_rates_pp(time_series):\n",
    "    fig, (histo, qq) = plt.subplots(1, 2, figsize=(12, 4))\n",
    "    histo.hist(time_series, bins = 20)\n",
    "    histo.set_title('Distribution of rates')\n",
    "    histo.set_xlabel('rate')\n",
    "    histo.set_ylabel('frequency')\n",
    "    stats.probplot(time_series, dist='norm', plot=plt)\n",
    "    plt.show()"
   ]
  },
  {
   "cell_type": "code",
   "execution_count": 1,
   "metadata": {},
   "outputs": [],
   "source": [
    "# get quandl 2017 data from USTREASURY/BILLRATES\n",
    "ust_df = quandl.get(...)\n",
    "\n",
    "# Print a list of columns. Which columns do we want?\n",
    "\n",
    "# Drop the columns we don't want\n",
    "        \n",
    "# Plot the one year series to visually check for any data anomalies. Make corrections.\n"
   ]
  },
  {
   "cell_type": "markdown",
   "metadata": {},
   "source": [
    "We would like some longer maturity data, but we can attend to that later. We have enough data to start modeling. Treasury bills have no coupon. The purchase price is a percentage of face value. The coupon equivalent represents the annual yield the holder earns. The price $p$ and coupon equivalent $c$ [are related as follows](https://www.investopedia.com/terms/c/couponequivalentrate.asp):\n",
    "\n",
    "$ c = \\frac{1-p}{p} \\frac{y}{m} $\n",
    "\n",
    "where $y$ is the number of days in the year ([365 or 366](https://www.treasury.gov/resource-center/data-chart-center/interest-rates/Pages/TextView.aspx?data=billrates)), and $m$ is the number of days to maturity. We want to convert the coupon yield to a continuously compounded rate $r$, which we can get from the price. So we solve for $p$:\n",
    "\n",
    "$ p = \\frac{1}{1 - c \\frac{m}{365}}$\n",
    "\n",
    "Since $p=e^{-rt}$, and $t = \\frac{m}{y}$, we have $r = -\\frac{\\ln p}{m/y}$."
   ]
  },
  {
   "cell_type": "code",
   "execution_count": 133,
   "metadata": {},
   "outputs": [
    {
     "name": "stdout",
     "output_type": "stream",
     "text": [
      "0.9983151722025295\n"
     ]
    }
   ],
   "source": [
    "#def price(coupon_equiv, maturity):\n",
    "\n",
    "print(price(0.022, 28))"
   ]
  },
  {
   "cell_type": "code",
   "execution_count": 46,
   "metadata": {},
   "outputs": [
    {
     "name": "stdout",
     "output_type": "stream",
     "text": [
      "0.021981456477085673\n"
     ]
    }
   ],
   "source": [
    "import math\n",
    "#def rate(price, maturity):\n",
    "\n",
    "print(rate(price(0.022, 28), 28))"
   ]
  },
  {
   "cell_type": "markdown",
   "metadata": {},
   "source": [
    "Buying a holding a note to maturity is equivalent to constantly investing at the instantaneous forward rate. So $rt = \\int_0^t f(s) ds$. Of course, we can't observe $f(t)$. But if we assume that it is piecewise flat, then we can determine $f(t)$ for all $t$ up to the maximum maturity of our zeroes. \n",
    "\n",
    "Let $t_0=0$, and let $t_1 < ... < t_n$ be the maturities of the zeroes. Define $f_i$ to be the instantaneous forward rate on $(t_{i-1}, t_i]$.\n",
    "\n",
    "If we define $r_i$ to be the continuously compounded rate to time $t_i$, then $r_i =r_{i-1}t_{i-1} + f_i(t-t_{i-1})$. Hence $f_i = \\frac{r_i - r_{i-1}t_{i-1}}{t-t_{i-1}}$.\n",
    "\n",
    "To model this, we create a term structure object."
   ]
  },
  {
   "cell_type": "code",
   "execution_count": 106,
   "metadata": {},
   "outputs": [
    {
     "name": "stdout",
     "output_type": "stream",
     "text": [
      "[0.07671232876712329, 0.2493150684931507, 0.4986301369863014, 0.9972602739726028]\n",
      "[0.005200000000000001, 0.0054, 0.006500000000000001, 0.0089]\n",
      "[' 0.08->0.0052', ' 0.25->0.0055', ' 0.50->0.0076', ' 1.00->0.0113']\n"
     ]
    },
    {
     "data": {
      "text/plain": [
       "0.007600000000000001"
      ]
     },
     "execution_count": 106,
     "metadata": {},
     "output_type": "execute_result"
    }
   ],
   "source": [
    "class RateTermStructure:\n",
    "    def __init__(self, maturity_list, zero_rate_list):\n",
    "        self.times_in_years = list(maturity_list)\n",
    "        self.zero_rates = list(zero_rate_list)\n",
    "        self.forward_rates = []\n",
    "        ...\n",
    "            \n",
    "    def format_rate(self, x):\n",
    "        return '{:{width}.{prec}f}'.format(x, width=6, prec=4)\n",
    "            \n",
    "\n",
    "    def format_time(self, x):\n",
    "        return '{:{width}.{prec}f}'.format(x, width=5, prec=2)\n",
    "    \n",
    "    def forward_rate_cc(self, years):\n",
    "        for t, r in zip(self.times_in_years, self.forward_rates):\n",
    "            if t > years:\n",
    "                return r\n",
    "        return float('nan')     \n",
    "\n",
    "    \n",
    "    def zero_rate_cc(self, years):\n",
    "        if years == 0:\n",
    "            return self.forward_rates[0]\n",
    "        # accumulate rate\n",
    "        rate = 0\n",
    "        t_previous = 0\n",
    "        for t, r in zip(self.times_in_years, self.forward_rates):\n",
    "            if t < years:\n",
    "                rate += r * (t - t_previous)\n",
    "            else:\n",
    "                return (rate + r * (years - t_previous)) / years\n",
    "            t_previous = t\n",
    "        return float('nan')     \n",
    "\n",
    "\n",
    "    def __repr__(self):\n",
    "        return str([self.format_time(t)+'->'+self.format_rate(f) for t, f in zip(self.times_in_years,self.forward_rates )])\n",
    "\n",
    "# create a list of maturity times (in years)\n",
    "times = ...\n",
    "# pick a date for testing purposes\n",
    "print(times)\n",
    "date = ust_df.index[0]\n",
    "# extract rates for that date\n",
    "zero_rates = ...\n",
    "print(zero_rates)\n",
    "rts = RateTermStructure(times, zero_rates)\n",
    "print(rts)\n",
    "# test forward rate\n",
    "rts.forward_rate_cc(0.49)"
   ]
  },
  {
   "cell_type": "markdown",
   "metadata": {},
   "source": [
    "Let's graph the instantaneous forward and zero curves."
   ]
  },
  {
   "cell_type": "code",
   "execution_count": 134,
   "metadata": {},
   "outputs": [
    {
     "data": {
      "image/png": "[encoded data removed]",
      "text/plain": [
       "<Figure size 432x288 with 1 Axes>"
      ]
     },
     "metadata": {},
     "output_type": "display_data"
    }
   ],
   "source": [
    "import matplotlib.pyplot as plt\n",
    "\n",
    "# use numpy to create a range of numbers from 0 to 1\n",
    "times = np.arange(0, 1, 0.005)\n",
    "# compute flat forward rates, and zero rates for those times\n",
    "ffr = [rts.forward_rate_cc(t) for t in times]\n",
    "zero_rates = [rts.zero_rate_cc(t) for t in times]\n",
    "\n",
    "# plot it\n"
   ]
  }
 ],
 "metadata": {
  "kernelspec": {
   "display_name": "Python 3",
   "language": "python",
   "name": "python3"
  },
  "language_info": {
   "codemirror_mode": {
    "name": "ipython",
    "version": 3
   },
   "file_extension": ".py",
   "mimetype": "text/x-python",
   "name": "python",
   "nbconvert_exporter": "python",
   "pygments_lexer": "ipython3",
   "version": "3.6.5"
  }
 },
 "nbformat": 4,
 "nbformat_minor": 2
}
